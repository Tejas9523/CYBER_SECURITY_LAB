{
  "nbformat": 4,
  "nbformat_minor": 0,
  "metadata": {
    "colab": {
      "provenance": [],
      "authorship_tag": "ABX9TyOQMVLyQPDeSzr+Z71xwzR8",
      "include_colab_link": true
    },
    "kernelspec": {
      "name": "python3",
      "display_name": "Python 3"
    },
    "language_info": {
      "name": "python"
    }
  },
  "cells": [
    {
      "cell_type": "markdown",
      "metadata": {
        "id": "view-in-github",
        "colab_type": "text"
      },
      "source": [
        "<a href=\"https://colab.research.google.com/github/Tejas9523/CyberSecurity/blob/main/CYberSecLpr1.ipynb\" target=\"_parent\"><img src=\"https://colab.research.google.com/assets/colab-badge.svg\" alt=\"Open In Colab\"/></a>"
      ]
    },
    {
      "cell_type": "code",
      "execution_count": 3,
      "metadata": {
        "id": "eLTzq8hHYLR2",
        "colab": {
          "base_uri": "https://localhost:8080/"
        },
        "outputId": "5dcc6c30-5666-44d8-d37c-09baddeac839"
      },
      "outputs": [
        {
          "output_type": "stream",
          "name": "stdout",
          "text": [
            "1000111010\n",
            "0001110101\n"
          ]
        }
      ],
      "source": [
        "import numpy as np\n",
        "\n",
        "def table_shift(array, table_array):\n",
        "    array_shifted = np.zeros(table_array.shape[0], dtype='int')\n",
        "    for index, value in enumerate(table_array): array_shifted[index] = array[value - 1]\n",
        "    return array_shifted\n",
        "\n",
        "def array_split(array):\n",
        "    left_split = array[:int(len(array) / 2)]\n",
        "    right_split = array[int(len(array) / 2):]\n",
        "    return left_split, right_split\n",
        "\n",
        "def shifting_LtoR(array):\n",
        "    temp = array[0]\n",
        "    for index in range(1, len(array)): array[index - 1] = array[index]\n",
        "    array[len(array) - 1] = temp\n",
        "    return array\n",
        "\n",
        "table_p_10 = np.array([3, 5, 2, 7, 4, 10, 1, 9, 8, 6])\n",
        "table_p_08 = np.array([6, 3, 7, 4, 8, 5, 10, 9])\n",
        "\n",
        "key = list('0001101101')\n",
        "\n",
        "def split_and_merge(key):\n",
        "    left_split, right_split = array_split(key)\n",
        "    return np.concatenate((shifting_LtoR(left_split), shifting_LtoR(right_split)))\n",
        "\n",
        "def key_generation_1(key, table):\n",
        "    k = table_shift(key, table)\n",
        "    key_merge = split_and_merge(k)\n",
        "    return table_shift(key_merge, table)\n",
        "\n",
        "def key_generation_2(key, table): return split_and_merge(key)\n",
        "\n",
        "key_1 = key_generation_1(key, table_p_10)\n",
        "print(\"\".join([str(elem) for elem in key_1]))  #1000111010\n",
        "\n",
        "key_2 = key_generation_2(key_1, table_p_08)\n",
        "print(\"\".join([str(elem) for elem in key_2]))  #0001110101"
      ]
    }
  ]
}
