{
  "cells": [
    {
      "cell_type": "markdown",
      "metadata": {
        "id": "view-in-github",
        "colab_type": "text"
      },
      "source": [
        "<a href=\"https://colab.research.google.com/github/Tejas9523/CyberSecurity/blob/main/CyberSecLpr5.ipynb\" target=\"_parent\"><img src=\"https://colab.research.google.com/assets/colab-badge.svg\" alt=\"Open In Colab\"/></a>"
      ]
    },
    {
      "cell_type": "code",
      "source": [
        "pip install tinyec"
      ],
      "metadata": {
        "colab": {
          "base_uri": "https://localhost:8080/"
        },
        "id": "ZLcHPWmmnaAO",
        "outputId": "cb89a2ea-7030-48b0-fe32-cabed113beb9"
      },
      "execution_count": 19,
      "outputs": [
        {
          "output_type": "stream",
          "name": "stdout",
          "text": [
            "Collecting tinyec\n",
            "  Downloading tinyec-0.4.0.tar.gz (24 kB)\n",
            "  Preparing metadata (setup.py) ... \u001b[?25l\u001b[?25hdone\n",
            "Building wheels for collected packages: tinyec\n",
            "  Building wheel for tinyec (setup.py) ... \u001b[?25l\u001b[?25hdone\n",
            "  Created wheel for tinyec: filename=tinyec-0.4.0-py3-none-any.whl size=20877 sha256=d24233340393440a20f72f7421ded21f671f34b366d5c0a5122e2d360c280a1d\n",
            "  Stored in directory: /root/.cache/pip/wheels/02/37/a5/aa011cfa66451de6aa2dbccaa3e7862e8290f0946653753265\n",
            "Successfully built tinyec\n",
            "Installing collected packages: tinyec\n",
            "Successfully installed tinyec-0.4.0\n"
          ]
        }
      ]
    },
    {
      "cell_type": "code",
      "execution_count": 20,
      "metadata": {
        "colab": {
          "base_uri": "https://localhost:8080/"
        },
        "id": "hWSdYmLthObu",
        "outputId": "871d5cd1-103e-4036-800f-f94c74b0d4f5"
      },
      "outputs": [
        {
          "output_type": "stream",
          "name": "stdout",
          "text": [
            "private key: 0x4902a71393d841d158269a130596063583bdf337db19606fea916ebda20eef4e\n",
            "public key: 0x51590581eee9adb150bdb890020c837681784c9d588965fde5a03b1fdd4246b11\n",
            "ciphertext pubKey: 0x6398753c4b8abf8b892af3ab681ddc551eca6bff1ef4f145aa3887257d0a7af71\n",
            "encryption key: 0x7162265f27493bd86541878f69f89469d910a91884ffb1aa369bbacb8b4fe0b20\n",
            "decryption key: 0x7162265f27493bd86541878f69f89469d910a91884ffb1aa369bbacb8b4fe0b20\n"
          ]
        }
      ],
      "source": [
        "from tinyec import registry\n",
        "import secrets\n",
        "\n",
        "curve = registry.get_curve('brainpoolP256r1')\n",
        "\n",
        "def compress_point(point):\n",
        "    return hex(point.x) + hex(point.y % 2)[2:]\n",
        "\n",
        "def ecc_calc_encryption_keys(pubKey):\n",
        "    ciphertextPrivKey = secrets.randbelow(curve.field.n)\n",
        "    ciphertextPubKey = ciphertextPrivKey * curve.g\n",
        "    sharedECCKey = pubKey * ciphertextPrivKey\n",
        "    return (sharedECCKey, ciphertextPubKey)\n",
        "\n",
        "def ecc_calc_decryption_key(privKey, ciphertextPubKey):\n",
        "    sharedECCKey = ciphertextPubKey * privKey\n",
        "    return sharedECCKey\n",
        "\n",
        "privKey = secrets.randbelow(curve.field.n)\n",
        "pubKey = privKey * curve.g\n",
        "print(\"private key:\", hex(privKey))\n",
        "print(\"public key:\", compress_point(pubKey))\n",
        "\n",
        "(encryptKey, ciphertextPubKey) = ecc_calc_encryption_keys(pubKey)\n",
        "print(\"ciphertext pubKey:\", compress_point(ciphertextPubKey))\n",
        "print(\"encryption key:\", compress_point(encryptKey))\n",
        "\n",
        "decryptKey = ecc_calc_decryption_key(privKey, ciphertextPubKey)\n",
        "print(\"decryption key:\", compress_point(decryptKey))"
      ]
    }
  ],
  "metadata": {
    "colab": {
      "provenance": [],
      "authorship_tag": "ABX9TyMfxKRaosxUuLrA6A9b/B/S",
      "include_colab_link": true
    },
    "kernelspec": {
      "display_name": "Python 3",
      "name": "python3"
    },
    "language_info": {
      "name": "python"
    }
  },
  "nbformat": 4,
  "nbformat_minor": 0
}