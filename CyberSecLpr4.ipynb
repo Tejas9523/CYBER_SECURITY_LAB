{
  "nbformat": 4,
  "nbformat_minor": 0,
  "metadata": {
    "colab": {
      "provenance": [],
      "authorship_tag": "ABX9TyNuG2bRuzLtV93E/EE1v7yn",
      "include_colab_link": true
    },
    "kernelspec": {
      "name": "python3",
      "display_name": "Python 3"
    },
    "language_info": {
      "name": "python"
    }
  },
  "cells": [
    {
      "cell_type": "markdown",
      "metadata": {
        "id": "view-in-github",
        "colab_type": "text"
      },
      "source": [
        "<a href=\"https://colab.research.google.com/github/Tejas9523/CyberSecurity/blob/main/CyberSecLpr4.ipynb\" target=\"_parent\"><img src=\"https://colab.research.google.com/assets/colab-badge.svg\" alt=\"Open In Colab\"/></a>"
      ]
    },
    {
      "cell_type": "code",
      "execution_count": 1,
      "metadata": {
        "colab": {
          "base_uri": "https://localhost:8080/"
        },
        "id": "Xs6iQPtOgZb8",
        "outputId": "cc452f42-e0c5-4d85-b339-a114ada9c57f"
      },
      "outputs": [
        {
          "output_type": "stream",
          "name": "stdout",
          "text": [
            "Message data =  12.0\n",
            "Encrypted data =  3.0\n",
            "Original Message Sent =  12.0\n"
          ]
        }
      ],
      "source": [
        "# Python for RSA asymmetric cryptographic algorithm.\n",
        "# For demonstration, values are\n",
        "# relatively small compared to practical application\n",
        "import math\n",
        "\n",
        "\n",
        "def gcd(a, h):\n",
        "\ttemp = 0\n",
        "\twhile(1):\n",
        "\t\ttemp = a % h\n",
        "\t\tif (temp == 0):\n",
        "\t\t\treturn h\n",
        "\t\ta = h\n",
        "\t\th = temp\n",
        "\n",
        "\n",
        "p = 3\n",
        "q = 7\n",
        "n = p*q\n",
        "e = 2\n",
        "phi = (p-1)*(q-1)\n",
        "\n",
        "while (e < phi):\n",
        "\n",
        "\t# e must be co-prime to phi and\n",
        "\t# smaller than phi.\n",
        "\tif(gcd(e, phi) == 1):\n",
        "\t\tbreak\n",
        "\telse:\n",
        "\t\te = e+1\n",
        "\n",
        "# Private key (d stands for decrypt)\n",
        "# choosing d such that it satisfies\n",
        "# d*e = 1 + k * totient\n",
        "\n",
        "k = 2\n",
        "d = (1 + (k*phi))/e\n",
        "\n",
        "# Message to be encrypted\n",
        "msg = 12.0\n",
        "\n",
        "print(\"Message data = \", msg)\n",
        "\n",
        "# Encryption c = (msg ^ e) % n\n",
        "c = pow(msg, e)\n",
        "c = math.fmod(c, n)\n",
        "print(\"Encrypted data = \", c)\n",
        "\n",
        "# Decryption m = (c ^ d) % n\n",
        "m = pow(c, d)\n",
        "m = math.fmod(m, n)\n",
        "print(\"Original Message Sent = \", m)\n",
        "\n",
        "\n",
        "# This code is contributed by Pranay Arora.\n"
      ]
    }
  ]
}